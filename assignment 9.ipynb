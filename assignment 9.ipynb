{
 "cells": [
  {
   "cell_type": "code",
   "execution_count": 11,
   "id": "23d46ab7",
   "metadata": {},
   "outputs": [
    {
     "name": "stdout",
     "output_type": "stream",
     "text": [
      "Enter name:hudha\n",
      "Enter value:12\n",
      "Enter name:amala\n",
      "Enter value:4\n",
      "Enter name:diya\n",
      "Enter value:9\n",
      "Enter name:afnan\n",
      "Enter value:2\n",
      "The dictionary is: {'hudha': 'hg', 'amala': 'hg', 'diya': 'hg', 'afnan': 'hg'}\n",
      "Ascending order is: {'afnan': 'hg', 'amala': 'hg', 'diya': 'hg', 'hudha': 'hg'}\n",
      "Descending order is: {'hudha': 'hg', 'diya': 'hg', 'amala': 'hg', 'afnan': 'hg'}\n"
     ]
    }
   ],
   "source": [
    "#sort dictionary\n",
    "\n",
    "a={}\n",
    "for i in range(4):\n",
    "    key=input(\"Enter name:\")\n",
    "    value=input(\"Enter value:\")\n",
    "    a[key]=name\n",
    "print(\"The dictionary is:\",a)\n",
    "ascend=sorted(a.items())\n",
    "new_a=dict(ascend)\n",
    "print(\"Ascending order is:\",new_a)\n",
    "\n",
    "descend=dict(sorted(a.items(),reverse=True))\n",
    "print(\"Descending order is:\",descend)"
   ]
  },
  {
   "cell_type": "code",
   "execution_count": 7,
   "id": "3533dde6",
   "metadata": {},
   "outputs": [
    {
     "name": "stdout",
     "output_type": "stream",
     "text": [
      "Enter the key:rose\n",
      "Enter the value:12\n",
      "first dictionary is: {'key1': 'rose', 'value1': '12'}\n",
      "Enter the key:sun\n",
      "Enter the value:23\n",
      "Second dictionary is: {'key2': 'sun', 'value2': '23'}\n",
      "\n",
      "Merged dictionary is {'key1': 'rose', 'value1': '12', 'key2': 'sun', 'value2': '23'}\n"
     ]
    }
   ],
   "source": [
    "#merge dictionaries\n",
    "\n",
    "a1={}\n",
    "key1=input(\"Enter the key:\")\n",
    "value1=input(\"Enter the value:\")\n",
    "a1['key1']=key1\n",
    "a1['value1']=value1\n",
    "print(\"first dictionary is:\",a1)\n",
    "a2={}\n",
    "key2=input(\"Enter the key:\")\n",
    "value2=input(\"Enter the value:\")\n",
    "a2['key2']=key2\n",
    "a2['value2']=value2\n",
    "print(\"Second dictionary is:\",a2)\n",
    "a3=a1\n",
    "a1.update(a2)\n",
    "print(\"\\nMerged dictionary is\",a3)\n",
    "\n"
   ]
  },
  {
   "cell_type": "code",
   "execution_count": null,
   "id": "ddd9031b",
   "metadata": {},
   "outputs": [],
   "source": []
  }
 ],
 "metadata": {
  "kernelspec": {
   "display_name": "Python 3 (ipykernel)",
   "language": "python",
   "name": "python3"
  },
  "language_info": {
   "codemirror_mode": {
    "name": "ipython",
    "version": 3
   },
   "file_extension": ".py",
   "mimetype": "text/x-python",
   "name": "python",
   "nbconvert_exporter": "python",
   "pygments_lexer": "ipython3",
   "version": "3.10.12"
  }
 },
 "nbformat": 4,
 "nbformat_minor": 5
}
