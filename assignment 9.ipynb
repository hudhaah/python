{
 "cells": [
  {
   "cell_type": "code",
   "execution_count": 2,
   "id": "23d46ab7",
   "metadata": {},
   "outputs": [
    {
     "name": "stdout",
     "output_type": "stream",
     "text": [
      "Enter name: hudha\n",
      "Enter key value: 12\n",
      "Enter name: shamla\n",
      "Enter key value: 25\n",
      "Enter name: hadiya\n",
      "Enter key value: 11\n",
      "dictoinory= {'hudha': '12', 'shamla': '25', 'hadiya': '11'}\n",
      "Ascending order= {'hadiya': '11', 'hudha': '12', 'shamla': '25'}\n",
      "Descending order= {'shamla': '25', 'hudha': '12', 'hadiya': '11'}\n"
     ]
    }
   ],
   "source": [
    "#sorting in ascending and descending\n",
    "dic={}\n",
    "for i in range(3):\n",
    "    name = input(\"Enter name: \")\n",
    "    key = input(\"Enter key value: \")\n",
    "    dic[name] = key\n",
    "print(\"dictoinory=\",dic)\n",
    "ascend=sorted(dic.items())\n",
    "new_dict = dict(ascend)\n",
    "print(\"Ascending order=\",new_dict)\n",
    "\n",
    "\n",
    "descend = dict(sorted(dic.items(),  reverse = True))\n",
    "print(\"Descending order=\",descend)\n"
   ]
  },
  {
   "cell_type": "code",
   "execution_count": null,
   "id": "3533dde6",
   "metadata": {},
   "outputs": [
    {
     "name": "stdout",
     "output_type": "stream",
     "text": [
      "Enter the key:hu\n",
      "Enter the value:12\n",
      "first dictionary is: {'key1': 'hu', 'value1': '12'}\n"
     ]
    }
   ],
   "source": [
    "#merge dictionaries\n",
    "\n",
    "a1={}\n",
    "key1=input(\"Enter the key:\")\n",
    "value1=input(\"Enter the value:\")\n",
    "a1['key1']=key1\n",
    "a1['value1']=value1\n",
    "print(\"first dictionary is:\",a1)\n",
    "a2={}\n",
    "key2=input(\"Enter the key:\")\n",
    "value2=input(\"Enter the value:\")\n",
    "a2['key2']=key2\n",
    "a2['value2']=value2\n",
    "print(\"Second dictionary is:\",a2)\n",
    "a3=a1\n",
    "a1.update(a2)\n",
    "print(\"\\nMerged dictionary is\",a3)\n",
    "\n"
   ]
  },
  {
   "cell_type": "code",
   "execution_count": null,
   "id": "ddd9031b",
   "metadata": {},
   "outputs": [],
   "source": []
  }
 ],
 "metadata": {
  "kernelspec": {
   "display_name": "Python 3 (ipykernel)",
   "language": "python",
   "name": "python3"
  },
  "language_info": {
   "codemirror_mode": {
    "name": "ipython",
    "version": 3
   },
   "file_extension": ".py",
   "mimetype": "text/x-python",
   "name": "python",
   "nbconvert_exporter": "python",
   "pygments_lexer": "ipython3",
   "version": "3.11.5"
  }
 },
 "nbformat": 4,
 "nbformat_minor": 5
}
