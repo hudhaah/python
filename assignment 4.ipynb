{
 "cells": [
  {
   "cell_type": "code",
   "execution_count": 11,
   "id": "bf2c246b",
   "metadata": {},
   "outputs": [
    {
     "name": "stdout",
     "output_type": "stream",
     "text": [
      "Enter numbers:10,60,20,30\n",
      "10,60,20,30\n",
      "Resulting list= ['10', '60', '20', '30']\n"
     ]
    }
   ],
   "source": [
    "#accept sequence of numbers and generate a list\n",
    "\n",
    "n=input(\"Enter numbers:\")\n",
    "print(n)\n",
    "p=n.split(\",\")\n",
    "print(\"Resulting list=\",p)\n"
   ]
  },
  {
   "cell_type": "code",
   "execution_count": 13,
   "id": "455a0e80",
   "metadata": {},
   "outputs": [
    {
     "name": "stdout",
     "output_type": "stream",
     "text": [
      "Enter the colors:red,yellow,orange,black,white\n",
      "First color in list is red\n",
      "Second color in list is white\n"
     ]
    }
   ],
   "source": [
    "#list of colors,first and last color\n",
    "\n",
    "n=input(\"Enter the colors:\")\n",
    "p=n.split(\",\")\n",
    "print(\"First color in list is\",p[0])\n",
    "print(\"Second color in list is\",p[-1])"
   ]
  },
  {
   "cell_type": "code",
   "execution_count": 15,
   "id": "2b7fbb13",
   "metadata": {},
   "outputs": [
    {
     "name": "stdout",
     "output_type": "stream",
     "text": [
      "Enter the file name:hudha.py\n",
      "The extension of given file is py\n"
     ]
    }
   ],
   "source": [
    "#accept a file name and print extension of that\n",
    "\n",
    "g=input(\"Enter the file name:\")\n",
    "p=g.split(\".\")\n",
    "print(\"The extension of given file is\",p[-1])"
   ]
  },
  {
   "cell_type": "code",
   "execution_count": null,
   "id": "09f11ed1",
   "metadata": {},
   "outputs": [],
   "source": []
  }
 ],
 "metadata": {
  "kernelspec": {
   "display_name": "Python 3 (ipykernel)",
   "language": "python",
   "name": "python3"
  },
  "language_info": {
   "codemirror_mode": {
    "name": "ipython",
    "version": 3
   },
   "file_extension": ".py",
   "mimetype": "text/x-python",
   "name": "python",
   "nbconvert_exporter": "python",
   "pygments_lexer": "ipython3",
   "version": "3.10.12"
  }
 },
 "nbformat": 4,
 "nbformat_minor": 5
}

