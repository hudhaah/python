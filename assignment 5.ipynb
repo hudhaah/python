{
 "cells": [
  {
   "cell_type": "code",
   "execution_count": 2,
   "id": "13b2a781",
   "metadata": {},
   "outputs": [
    {
     "name": "stdout",
     "output_type": "stream",
     "text": [
      "Enter a number:0\n",
      "The given number is ZERO\n"
     ]
    }
   ],
   "source": [
    "# Positive,Negative or Zero\n",
    "\n",
    "n=int(input(\"Enter a number:\"))\n",
    "if(n<0):\n",
    "    print(\"The given number is NEGATIVE\")\n",
    "elif(n>0):\n",
    "    print(\"The given number is POSITIVE\")\n",
    "else:\n",
    "    print(\"The given number is ZERO\")\n",
    "    "
   ]
  },
  {
   "cell_type": "code",
   "execution_count": 10,
   "id": "f38f7024",
   "metadata": {},
   "outputs": [
    {
     "name": "stdout",
     "output_type": "stream",
     "text": [
      "Enter the first number:90\n",
      "Enter the second number:90\n",
      "Enter the third number:40\n",
      "The greatest number is 90\n"
     ]
    }
   ],
   "source": [
    "# Greatest of 3 numbers\n",
    "\n",
    "a=int(input(\"Enter the first number:\"))\n",
    "b=int(input(\"Enter the second number:\"))\n",
    "c=int(input(\"Enter the third number:\"))\n",
    "if(a>=b and a>=c):\n",
    "    print(\"The greatest number is\",a)\n",
    "elif(b>=a and b>=c):\n",
    "    print(\"The greatest number is\",b)\n",
    "else:\n",
    "    print(\"The greatest number is\",c)\n"
   ]
  },
  {
   "cell_type": "markdown",
   "id": "319f877f",
   "metadata": {},
   "source": []
  },
  {
   "cell_type": "code",
   "execution_count": 4,
   "id": "83f8b504",
   "metadata": {},
   "outputs": [
    {
     "name": "stdout",
     "output_type": "stream",
     "text": [
      "Enter 1st number:10\n",
      "Enter 2nd number:10\n",
      "Select the option:\n",
      "1.ADDITION\n",
      "2.SUBTRACTION\n",
      "3.MULTIPLICATION\n",
      "4.DIVISION\n",
      "Enter your choice:3\n",
      "Product of numbers is 100\n"
     ]
    }
   ],
   "source": [
    "#simple calculator\n",
    "\n",
    "a=float(input(\"Enter 1st number:\"))\n",
    "b=float(input(\"Enter 2nd number:\"))\n",
    "print(\"Select the option:\")\n",
    "print(\"1.ADDITION\")\n",
    "print(\"2.SUBTRACTION\")\n",
    "print(\"3.MULTIPLICATION\")\n",
    "print(\"4.DIVISION\")\n",
    "choice=float(input(\"Enter your choice:\"))\n",
    "if(choice==1):\n",
    "    print(\"Sum of numbers is\",round(a+b))\n",
    "elif(choice==2):\n",
    "    print(\"Difference of numbers is\",round(a-b))\n",
    "elif(choice==3):\n",
    "    print(\"Product of numbers is\",round(a*b))\n",
    "elif(choice==4):\n",
    "    print(\"Quotient of number is\",round(a/b))\n",
    "else:\n",
    "    print(\"INVALID\")"
   ]
  },
  {
   "cell_type": "code",
   "execution_count": null,
   "id": "15477559",
   "metadata": {},
   "outputs": [],
   "source": []
  }
 ],
 "metadata": {
  "kernelspec": {
   "display_name": "Python 3 (ipykernel)",
   "language": "python",
   "name": "python3"
  },
  "language_info": {
   "codemirror_mode": {
    "name": "ipython",
    "version": 3
   },
   "file_extension": ".py",
   "mimetype": "text/x-python",
   "name": "python",
   "nbconvert_exporter": "python",
   "pygments_lexer": "ipython3",
   "version": "3.10.12"
  }
 },
 "nbformat": 4,
 "nbformat_minor": 5
}
