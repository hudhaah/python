{
 "cells": [
  {
   "cell_type": "code",
   "execution_count": 1,
   "id": "8734977c",
   "metadata": {},
   "outputs": [
    {
     "name": "stdout",
     "output_type": "stream",
     "text": [
      "Enter a number:5\n",
      "The factorial is 120\n"
     ]
    }
   ],
   "source": [
    "#Factorial of a number\n",
    "import math\n",
    "n=int(input(\"Enter a number:\"))\n",
    "factorial=1\n",
    "i=1\n",
    "while(i<=n):\n",
    "    factorial=factorial*i\n",
    "    i=i+1\n",
    "print(\"The factorial is\",factorial)\n"
   ]
  },
  {
   "cell_type": "code",
   "execution_count": 3,
   "id": "11c05959",
   "metadata": {},
   "outputs": [
    {
     "name": "stdout",
     "output_type": "stream",
     "text": [
      "Enter :5\n",
      "Fibonacci series is:\n",
      "0\n",
      "1\n",
      "1\n",
      "2\n",
      "3\n"
     ]
    }
   ],
   "source": [
    "#fibonacci series of N terms\n",
    "\n",
    "n=int(input(\"Enter :\"))\n",
    "n1=0\n",
    "n2=1\n",
    "fib=n1+n2\n",
    "count=1\n",
    "print(\"Fibonacci series is:\")\n",
    "while(count<=n):\n",
    "    count+=1\n",
    "    print(n1)\n",
    "    n1=n2\n",
    "    n2=fib\n",
    "    fib=n1+n2"
   ]
  },
  {
   "cell_type": "code",
   "execution_count": 1,
   "id": "7955a429",
   "metadata": {},
   "outputs": [
    {
     "name": "stdout",
     "output_type": "stream",
     "text": [
      "Enter the first number:5\n",
      "Enter the second number:2\n",
      "GCD of 5 and 2 is 1\n"
     ]
    }
   ],
   "source": [
    "#Greatest common divisors of two integers\n",
    "\n",
    "n1=int(input(\"Enter the first number:\"))\n",
    "n2=int(input(\"Enter the second number:\"))\n",
    "if(n1>n2):\n",
    "    c=n2\n",
    "else:\n",
    "    c=n1\n",
    "while(c>0):\n",
    "    if(n1%c==0)and(n2%c==0):\n",
    "        print(\"GCD of\",n1,\"and\",n2,\"is\",c)\n",
    "        break;\n",
    "    c=c-1\n"
   ]
  },
  {
   "cell_type": "code",
   "execution_count": 2,
   "id": "06f7c79c",
   "metadata": {},
   "outputs": [
    {
     "name": "stdout",
     "output_type": "stream",
     "text": [
      "Enter a list:589674\n",
      "sum of the element in the list ['5', '8', '9', '6', '7', '4'] = 39\n"
     ]
    }
   ],
   "source": [
    "\n",
    "#sum of all terms in a list\n",
    "l=list(input(\"Enter a list:\"))\n",
    "l1=len(l)\n",
    "a=0\n",
    "i=0\n",
    "for i in range(l1):\n",
    "    b=int(l[i])\n",
    "    a=a+b\n",
    "print(\"sum of the element in the list\",l,\"=\",a)\n",
    "\n"
   ]
  },
  {
   "cell_type": "code",
   "execution_count": 3,
   "id": "23bbca92",
   "metadata": {},
   "outputs": [
    {
     "name": "stdout",
     "output_type": "stream",
     "text": [
      "Enter Number seperated by comas:5,8,9,0,4\n",
      "Tuples ('5', '8', '9', '0', '4')\n",
      "Average Value of the Number in Given Tuple : 5.2\n"
     ]
    }
   ],
   "source": [
    "\n",
    "#Average of Tuple\n",
    "t=tuple(input(\"Enter Number seperated by comas:\").split(\",\"))\n",
    "print(\"Tuples\",t)\n",
    "l=len(t)\n",
    "c=0\n",
    "for i in range(l):\n",
    "    c=int(t[i])+c\n",
    "    avg=c/l\n",
    "print(\"Average Value of the Number in Given Tuple :\",avg)\n",
    "\n"
   ]
  },
  {
   "cell_type": "code",
   "execution_count": 4,
   "id": "cba37e96",
   "metadata": {},
   "outputs": [
    {
     "name": "stdout",
     "output_type": "stream",
     "text": [
      "Enter a string :football\n",
      "f is repeated 1 times\n",
      "o is repeated 2 times\n",
      "t is repeated 1 times\n",
      "b is repeated 1 times\n",
      "a is repeated 1 times\n",
      "l is repeated 2 times\n"
     ]
    }
   ],
   "source": [
    "\n",
    "#Frequency of characters in a string\n",
    "s=input(\"Enter a string :\")\n",
    "f={}\n",
    "for i in s:\n",
    "    if i in f:\n",
    "        f[i]=f[i]+1\n",
    "    else:\n",
    "            f[i]=1\n",
    "for keys,value in f.items():\n",
    "    print(keys,\"is repeated\",value,\"times\")\n",
    "\n"
   ]
  },
  {
   "cell_type": "code",
   "execution_count": null,
   "id": "3991b532",
   "metadata": {},
   "outputs": [],
   "source": []
  }
 ],
 "metadata": {
  "kernelspec": {
   "display_name": "Python 3 (ipykernel)",
   "language": "python",
   "name": "python3"
  },
  "language_info": {
   "codemirror_mode": {
    "name": "ipython",
    "version": 3
   },
   "file_extension": ".py",
   "mimetype": "text/x-python",
   "name": "python",
   "nbconvert_exporter": "python",
   "pygments_lexer": "ipython3",
   "version": "3.10.12"
  }
 },
 "nbformat": 4,
 "nbformat_minor": 5
}
