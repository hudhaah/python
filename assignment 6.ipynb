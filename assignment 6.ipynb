{
 "cells": [
  {
   "cell_type": "code",
   "execution_count": 1,
   "id": "57b3fa0a",
   "metadata": {},
   "outputs": [
    {
     "name": "stdout",
     "output_type": "stream",
     "text": [
      "Enter a number:5\n",
      "The factorial is 120\n"
     ]
    }
   ],
   "source": [
    "#Factorial of a number\n",
    "import math\n",
    "n=int(input(\"Enter a number:\"))\n",
    "factorial=1\n",
    "i=1\n",
    "while(i<=n):\n",
    "    factorial=factorial*i\n",
    "    i=i+1\n",
    "print(\"The factorial is\",factorial)\n"
   ]
  },
  {
   "cell_type": "code",
   "execution_count": 3,
   "id": "29613876",
   "metadata": {},
   "outputs": [
    {
     "name": "stdout",
     "output_type": "stream",
     "text": [
      "Enter :5\n",
      "Fibonacci series is:\n",
      "0\n",
      "1\n",
      "1\n",
      "2\n",
      "3\n"
     ]
    }
   ],
   "source": [
    "#fibonacci series of N terms\n",
    "\n",
    "n=int(input(\"Enter :\"))\n",
    "n1=0\n",
    "n2=1\n",
    "fib=n1+n2\n",
    "count=1\n",
    "print(\"Fibonacci series is:\")\n",
    "while(count<=n):\n",
    "    count+=1\n",
    "    print(n1)\n",
    "    n1=n2\n",
    "    n2=fib\n",
    "    fib=n1+n2"
   ]
  },
  {
   "cell_type": "code",
   "execution_count": null,
   "id": "a07d4c04",
   "metadata": {},
   "outputs": [],
   "source": []
  }
 ],
 "metadata": {
  "kernelspec": {
   "display_name": "Python 3 (ipykernel)",
   "language": "python",
   "name": "python3"
  },
  "language_info": {
   "codemirror_mode": {
    "name": "ipython",
    "version": 3
   },
   "file_extension": ".py",
   "mimetype": "text/x-python",
   "name": "python",
   "nbconvert_exporter": "python",
   "pygments_lexer": "ipython3",
   "version": "3.10.12"
  }
 },
 "nbformat": 4,
 "nbformat_minor": 5
}
