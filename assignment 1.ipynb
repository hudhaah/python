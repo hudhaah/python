{
 "cells": [
  {
   "cell_type": "code",
   "execution_count": 20,
   "id": "77023d8c",
   "metadata": {
    "scrolled": true
   },
   "outputs": [
    {
     "name": "stdout",
     "output_type": "stream",
     "text": [
      "enter the side:3\n",
      "Area= 9\n"
     ]
    }
   ],
   "source": [
    "#area of a square\n",
    "\n",
    "h=int(input(\"enter the side:\"))\n",
    "area=h*h\n",
    "print(\"Area=\",area)"
   ]
  },
  {
   "cell_type": "code",
   "execution_count": 21,
   "id": "552f2df9",
   "metadata": {
    "scrolled": true
   },
   "outputs": [
    {
     "name": "stdout",
     "output_type": "stream",
     "text": [
      "enter the base:4\n",
      "enter the height:7\n",
      "Area of a right angled triangle= 14.0\n"
     ]
    }
   ],
   "source": [
    "#area of right angled triangle\n",
    "\n",
    "i=int(input(\"enter the base:\"))\n",
    "j=int(input(\"enter the height:\"))\n",
    "area=(i*j)/2\n",
    "print(\"Area of a right angled triangle=\",area)"
   ]
  },
  {
   "cell_type": "code",
   "execution_count": 22,
   "id": "32eeb876",
   "metadata": {},
   "outputs": [
    {
     "name": "stdout",
     "output_type": "stream",
     "text": [
      "Enter a number:3\n",
      "previous number is: 2\n",
      "next number is: 4\n"
     ]
    }
   ],
   "source": [
    "#next and previous number\n",
    "\n",
    "x=int(input(\"Enter a number:\"))\n",
    "p=x-1\n",
    "n=x+1\n",
    "print(\"previous number is:\",p)\n",
    "print(\"next number is:\",n)"
   ]
  },
  {
   "cell_type": "code",
   "execution_count": 26,
   "id": "e1e8a1bb",
   "metadata": {
    "scrolled": true
   },
   "outputs": [
    {
     "name": "stdout",
     "output_type": "stream",
     "text": [
      "Princple amount:56\n",
      "Number of year:4\n",
      "rate of interest:4\n",
      "Simple interest: 8.96\n"
     ]
    }
   ],
   "source": [
    "#calculate interest\n",
    "\n",
    "m=int(input(\"Princple amount:\"))\n",
    "n=int(input(\"Number of year:\"))\n",
    "o=int(input(\"rate of interest:\"))\n",
    "I=(m*n*o)/100\n",
    "print(\"Simple interest:\",I)\n"
   ]
  },
  {
   "cell_type": "code",
   "execution_count": 20,
   "id": "8ad143a3",
   "metadata": {},
   "outputs": [
    {
     "name": "stdout",
     "output_type": "stream",
     "text": [
      "Enter an integer:2\n",
      " 2 + 22 + 222 = 246\n"
     ]
    }
   ],
   "source": [
    "#accept and compute n+nn+nnn\n",
    "\n",
    "n=int(input(\"Enter an integer:\"))\n",
    "v=(n)\n",
    "w=(11*n)\n",
    "q=(111*n)\n",
    "print(\"\",v,\"+\",w,\"+\",q,\"=\",v+w+q)\n"
   ]
  },
  {
   "cell_type": "code",
   "execution_count": null,
   "id": "215b9c7a",
   "metadata": {},
   "outputs": [],
   "source": []
  }
 ],
 "metadata": {
  "kernelspec": {
   "display_name": "Python 3 (ipykernel)",
   "language": "python",
   "name": "python3"
  },
  "language_info": {
   "codemirror_mode": {
    "name": "ipython",
    "version": 3
   },
   "file_extension": ".py",
   "mimetype": "text/x-python",
   "name": "python",
   "nbconvert_exporter": "python",
   "pygments_lexer": "ipython3",
   "version": "3.10.12"
  }
 },
 "nbformat": 4,
 "nbformat_minor": 5
}

