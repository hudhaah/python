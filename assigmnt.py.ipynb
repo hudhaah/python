{
 "cells": [
  {
   "cell_type": "code",
   "execution_count": 1,
   "id": "cc46808f",
   "metadata": {},
   "outputs": [
    {
     "name": "stdout",
     "output_type": "stream",
     "text": [
      "hello\n"
     ]
    }
   ],
   "source": [
    "\n",
    "print(\"hello\")"
   ]
  },
  {
   "cell_type": "code",
   "execution_count": 2,
   "id": "57b35c41",
   "metadata": {},
   "outputs": [
    {
     "data": {
      "text/plain": [
       "'hudhaah'"
      ]
     },
     "execution_count": 2,
     "metadata": {},
     "output_type": "execute_result"
    }
   ],
   "source": [
    "a=\"hudhaah\"\n",
    "a"
   ]
  },
  {
   "cell_type": "code",
   "execution_count": 5,
   "id": "078f434d",
   "metadata": {},
   "outputs": [
    {
     "data": {
      "text/plain": [
       "-10"
      ]
     },
     "execution_count": 5,
     "metadata": {},
     "output_type": "execute_result"
    }
   ],
   "source": [
    "a=10\n",
    "b=20"
   ]
  },
  {
   "cell_type": "code",
   "execution_count": 6,
   "id": "2edabcfc",
   "metadata": {},
   "outputs": [
    {
     "data": {
      "text/plain": [
       "30"
      ]
     },
     "execution_count": 6,
     "metadata": {},
     "output_type": "execute_result"
    }
   ],
   "source": [
    "a+b\n"
   ]
  },
  {
   "cell_type": "code",
   "execution_count": 9,
   "id": "1d51a207",
   "metadata": {},
   "outputs": [
    {
     "data": {
      "text/plain": [
       "'hudha'"
      ]
     },
     "execution_count": 9,
     "metadata": {},
     "output_type": "execute_result"
    }
   ],
   "source": [
    "name=\"hudha\"\n",
    "name"
   ]
  },
  {
   "cell_type": "code",
   "execution_count": 10,
   "id": "9b8d48bf",
   "metadata": {},
   "outputs": [
    {
     "data": {
      "text/plain": [
       "'h'"
      ]
     },
     "execution_count": 10,
     "metadata": {},
     "output_type": "execute_result"
    }
   ],
   "source": [
    "name[0]\n"
   ]
  },
  {
   "cell_type": "code",
   "execution_count": 11,
   "id": "751fd41c",
   "metadata": {},
   "outputs": [
    {
     "data": {
      "text/plain": [
       "25"
      ]
     },
     "execution_count": 11,
     "metadata": {},
     "output_type": "execute_result"
    }
   ],
   "source": [
    "a=5\n",
    "a*a"
   ]
  },
  {
   "cell_type": "code",
   "execution_count": 20,
   "id": "77023d8c",
   "metadata": {
    "scrolled": true
   },
   "outputs": [
    {
     "name": "stdout",
     "output_type": "stream",
     "text": [
      "enter the side:3\n",
      "Area= 9\n"
     ]
    }
   ],
   "source": [
    "h=int(input(\"enter the side:\"))\n",
    "area=h*h\n",
    "print(\"Area=\",area)"
   ]
  },
  {
   "cell_type": "code",
   "execution_count": 21,
   "id": "552f2df9",
   "metadata": {
    "scrolled": true
   },
   "outputs": [
    {
     "name": "stdout",
     "output_type": "stream",
     "text": [
      "enter the base:4\n",
      "enter the height:7\n",
      "Area of a right angled triangle= 14.0\n"
     ]
    }
   ],
   "source": [
    "i=int(input(\"enter the base:\"))\n",
    "j=int(input(\"enter the height:\"))\n",
    "area=(i*j)/2\n",
    "print(\"Area of a right angled triangle=\",area)"
   ]
  },
  {
   "cell_type": "code",
   "execution_count": 22,
   "id": "32eeb876",
   "metadata": {},
   "outputs": [
    {
     "name": "stdout",
     "output_type": "stream",
     "text": [
      "Enter a number:3\n",
      "previous number is: 2\n",
      "next number is: 4\n"
     ]
    }
   ],
   "source": [
    "x=int(input(\"Enter a number:\"))\n",
    "p=x-1\n",
    "n=x+1\n",
    "print(\"previous number is:\",p)\n",
    "print(\"next number is:\",n)"
   ]
  },
  {
   "cell_type": "code",
   "execution_count": 25,
   "id": "4fbfe774",
   "metadata": {},
   "outputs": [
    {
     "name": "stdout",
     "output_type": "stream",
     "text": [
      "Enter an integer:2\n",
      "solution is: 14\n"
     ]
    }
   ],
   "source": [
    "n=int(input(\"Enter an integer:\"))\n",
    "v=(n)+(n*n)+(n*n*n)\n",
    "print(\"solution is:\",v)"
   ]
  },
  {
   "cell_type": "code",
   "execution_count": 26,
   "id": "e1e8a1bb",
   "metadata": {
    "scrolled": true
   },
   "outputs": [
    {
     "name": "stdout",
     "output_type": "stream",
     "text": [
      "Princple amount:56\n",
      "Number of year:4\n",
      "rate of interest:4\n",
      "Simple interest: 8.96\n"
     ]
    }
   ],
   "source": [
    "m=int(input(\"Princple amount:\"))\n",
    "n=int(input(\"Number of year:\"))\n",
    "o=int(input(\"rate of interest:\"))\n",
    "I=(m*n*o)/100\n",
    "print(\"Simple interest:\",I)\n"
   ]
  },
  {
   "cell_type": "code",
   "execution_count": 27,
   "id": "1f6f71da",
   "metadata": {},
   "outputs": [
    {
     "name": "stdout",
     "output_type": "stream",
     "text": [
      "enter first number:3\n",
      "enter second number:5\n",
      "Sum of 2 numbers: 8\n"
     ]
    }
   ],
   "source": [
    "d=int(input(\"enter first number:\"))\n",
    "f=int(input(\"enter second number:\"))\n",
    "sum=d+f\n",
    "print(\"Sum of 2 numbers:\",sum)"
   ]
  },
  {
   "cell_type": "code",
   "execution_count": 20,
   "id": "8ad143a3",
   "metadata": {},
   "outputs": [
    {
     "name": "stdout",
     "output_type": "stream",
     "text": [
      "Enter an integer:2\n",
      " 2 + 22 + 222 = 246\n"
     ]
    }
   ],
   "source": [
    "n=int(input(\"Enter an integer:\"))\n",
    "v=(n)\n",
    "w=(11*n)\n",
    "q=(111*n)\n",
    "print(\"\",v,\"+\",w,\"+\",q,\"=\",v+w+q)\n"
   ]
  },
  {
   "cell_type": "code",
   "execution_count": 1,
   "id": "d04dabd1",
   "metadata": {},
   "outputs": [
    {
     "data": {
      "text/plain": [
       "'E'"
      ]
     },
     "execution_count": 1,
     "metadata": {},
     "output_type": "execute_result"
    }
   ],
   "source": [
    "s=\"WELCOME\"\n",
    "s[-1]\n"
   ]
  },
  {
   "cell_type": "code",
   "execution_count": 2,
   "id": "83d9aa1d",
   "metadata": {},
   "outputs": [
    {
     "data": {
      "text/plain": [
       "'C'"
      ]
     },
     "execution_count": 2,
     "metadata": {},
     "output_type": "execute_result"
    }
   ],
   "source": [
    "s[3]"
   ]
  },
  {
   "cell_type": "code",
   "execution_count": 3,
   "id": "3b02f636",
   "metadata": {},
   "outputs": [
    {
     "data": {
      "text/plain": [
       "'E'"
      ]
     },
     "execution_count": 3,
     "metadata": {},
     "output_type": "execute_result"
    }
   ],
   "source": [
    "s[6]"
   ]
  },
  {
   "cell_type": "code",
   "execution_count": 4,
   "id": "71c5297f",
   "metadata": {},
   "outputs": [
    {
     "ename": "IndexError",
     "evalue": "string index out of range",
     "output_type": "error",
     "traceback": [
      "\u001b[0;31m---------------------------------------------------------------------------\u001b[0m",
      "\u001b[0;31mIndexError\u001b[0m                                Traceback (most recent call last)",
      "\u001b[0;32m/tmp/ipykernel_14827/83291243.py\u001b[0m in \u001b[0;36m<module>\u001b[0;34m\u001b[0m\n\u001b[0;32m----> 1\u001b[0;31m \u001b[0ms\u001b[0m\u001b[0;34m[\u001b[0m\u001b[0;36m7\u001b[0m\u001b[0;34m]\u001b[0m\u001b[0;34m\u001b[0m\u001b[0;34m\u001b[0m\u001b[0m\n\u001b[0m",
      "\u001b[0;31mIndexError\u001b[0m: string index out of range"
     ]
    }
   ],
   "source": [
    "s[7]"
   ]
  },
  {
   "cell_type": "code",
   "execution_count": 6,
   "id": "af665465",
   "metadata": {},
   "outputs": [
    {
     "data": {
      "text/plain": [
       "'O'"
      ]
     },
     "execution_count": 6,
     "metadata": {},
     "output_type": "execute_result"
    }
   ],
   "source": [
    "s=\"WELCOME\"\n",
    "s[4]\n"
   ]
  },
  {
   "cell_type": "code",
   "execution_count": 7,
   "id": "31892704",
   "metadata": {},
   "outputs": [
    {
     "ename": "SyntaxError",
     "evalue": "invalid syntax (4215386728.py, line 1)",
     "output_type": "error",
     "traceback": [
      "\u001b[0;36m  File \u001b[0;32m\"/tmp/ipykernel_14827/4215386728.py\"\u001b[0;36m, line \u001b[0;32m1\u001b[0m\n\u001b[0;31m    s=[1:5]\u001b[0m\n\u001b[0m        ^\u001b[0m\n\u001b[0;31mSyntaxError\u001b[0m\u001b[0;31m:\u001b[0m invalid syntax\n"
     ]
    }
   ],
   "source": [
    "s=[1:5]"
   ]
  },
  {
   "cell_type": "code",
   "execution_count": 9,
   "id": "4db80c6b",
   "metadata": {},
   "outputs": [
    {
     "name": "stdout",
     "output_type": "stream",
     "text": [
      "30 is greater\n"
     ]
    }
   ],
   "source": [
    "a=30\n",
    "b=10\n",
    "if a<b:\n",
    "    print(b,\"is greater\")\n",
    "else:\n",
    "    print(a,\"is greater\")"
   ]
  },
  {
   "cell_type": "code",
   "execution_count": null,
   "id": "eeaefe01",
   "metadata": {},
   "outputs": [],
   "source": []
  }
 ],
 "metadata": {
  "kernelspec": {
   "display_name": "Python 3 (ipykernel)",
   "language": "python",
   "name": "python3"
  },
  "language_info": {
   "codemirror_mode": {
    "name": "ipython",
    "version": 3
   },
   "file_extension": ".py",
   "mimetype": "text/x-python",
   "name": "python",
   "nbconvert_exporter": "python",
   "pygments_lexer": "ipython3",
   "version": "3.10.12"
  }
 },
 "nbformat": 4,
 "nbformat_minor": 5
}
