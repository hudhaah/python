{
 "cells": [
  {
   "cell_type": "code",
   "execution_count": 1,
   "id": "51a3608e",
   "metadata": {},
   "outputs": [
    {
     "name": "stdout",
     "output_type": "stream",
     "text": [
      "Enter the elements:54875\n",
      "The original tuple without reversing is ('5', '4', '8', '7', '5')\n",
      "The reversed tuple is ('5', '7', '8', '4', '5')\n"
     ]
    }
   ],
   "source": [
    "#Reverse a tuple\n",
    "t=tuple(input(\"Enter the elements:\"))\n",
    "print(\"The original tuple without reversing is\",t)\n",
    "reverse=tuple(reversed(t))\n",
    "print(\"The reversed tuple is\",reverse)"
   ]
  },
  {
   "cell_type": "code",
   "execution_count": 15,
   "id": "c78c472c",
   "metadata": {},
   "outputs": [
    {
     "name": "stdout",
     "output_type": "stream",
     "text": [
      "Enter Numbers:1254\n",
      "Tuples ('1', '2', '5', '4')\n",
      "Average Value of the Number in Given Tuple : 3.0\n"
     ]
    }
   ],
   "source": [
    "#Average of Tuple\n",
    "t=tuple(input(\"Enter Numbers:\"))\n",
    "print(\"Tuples\",t)\n",
    "l=len(t)\n",
    "c=0\n",
    "for i in range(l):\n",
    "    c=int(t[i])+c\n",
    "    avg=c/l\n",
    "print(\"Average Value of the Number in Given Tuple :\",avg)"
   ]
  },
  {
   "cell_type": "code",
   "execution_count": 2,
   "id": "6c224d79",
   "metadata": {},
   "outputs": [
    {
     "name": "stdout",
     "output_type": "stream",
     "text": [
      "Enter numbers:14587963\n",
      "Tuples ('1', '4', '5', '8', '7', '9', '6', '3')\n",
      "Enter the item to be removed:1\n",
      "('4', '5', '8', '7', '9', '6', '3')\n"
     ]
    }
   ],
   "source": [
    "#remove an item\n",
    "\n",
    "t=tuple(input(\"Enter numbers:\"))\n",
    "print(\"Tuples\",t)\n",
    "c=list(t)\n",
    "d=input(\"Enter the item to be removed:\")\n",
    "for x in t:\n",
    "    if d in x:\n",
    "        c.remove(x)\n",
    "        result=tuple(c)\n",
    "print(result)"
   ]
  },
  {
   "cell_type": "code",
   "execution_count": 3,
   "id": "d36a6362",
   "metadata": {},
   "outputs": [
    {
     "name": "stdout",
     "output_type": "stream",
     "text": [
      "Enter numbers:784596321\n",
      "Tuples ('7', '8', '4', '5', '9', '6', '3', '2', '1')\n",
      "3rd element: 4\n",
      "3rd element from last: 3\n"
     ]
    }
   ],
   "source": [
    "#to get 3rd element & 3rd element from last of a tuple\n",
    "\n",
    "t=tuple(input(\"Enter numbers:\"))\n",
    "print(\"Tuples\",t)\n",
    "print(\"3rd element:\",t[2])\n",
    "print(\"3rd element from last:\",t[-3])"
   ]
  },
  {
   "cell_type": "code",
   "execution_count": null,
   "id": "d88753da",
   "metadata": {},
   "outputs": [],
   "source": []
  }
 ],
 "metadata": {
  "kernelspec": {
   "display_name": "Python 3 (ipykernel)",
   "language": "python",
   "name": "python3"
  },
  "language_info": {
   "codemirror_mode": {
    "name": "ipython",
    "version": 3
   },
   "file_extension": ".py",
   "mimetype": "text/x-python",
   "name": "python",
   "nbconvert_exporter": "python",
   "pygments_lexer": "ipython3",
   "version": "3.10.12"
  }
 },
 "nbformat": 4,
 "nbformat_minor": 5
}
