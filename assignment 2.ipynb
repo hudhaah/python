{
 "cells": [
  {
   "cell_type": "code",
   "execution_count": 1,
   "id": "e659824b",
   "metadata": {},
   "outputs": [
    {
     "name": "stdout",
     "output_type": "stream",
     "text": [
      "area of circle\n",
      "enter the radius of the circle:2\n",
      "area of a circle= 13\n"
     ]
    }
   ],
   "source": [
    "#area of circle\n",
    "\n",
    "print(\"area of circle\")\n",
    "from math import pi\n",
    "a=float(input(\"enter the radius of the circle:\"))\n",
    "area=round(pi*a*a)\n",
    "print(\"area of a circle=\",area)"
   ]
  },
  {
   "cell_type": "code",
   "execution_count": 2,
   "id": "d080e890",
   "metadata": {},
   "outputs": [
    {
     "name": "stdout",
     "output_type": "stream",
     "text": [
      "Enter the degree celsius:100\n",
      "Fahrenheit: 212.0\n"
     ]
    }
   ],
   "source": [
    "#celsius to fahrenheit\n",
    "\n",
    "x=int(input(\"Enter the degree celsius:\"))\n",
    "f=x*(9/5)+32\n",
    "print(\"Fahrenheit:\",f)"
   ]
  },
  {
   "cell_type": "code",
   "execution_count": 3,
   "id": "2f34a9e3",
   "metadata": {},
   "outputs": [
    {
     "name": "stdout",
     "output_type": "stream",
     "text": [
      "Enter the kilometer:1\n",
      "mile= 0.62137\n"
     ]
    }
   ],
   "source": [
    "#kilometer to mile\n",
    "\n",
    "k=int(input(\"Enter the kilometer:\"))\n",
    "y=0.62137\n",
    "m=k*y\n",
    "print(\"mile=\",m)\n"
   ]
  },
  {
   "cell_type": "code",
   "execution_count": 5,
   "id": "15e51d0c",
   "metadata": {},
   "outputs": [
    {
     "name": "stdout",
     "output_type": "stream",
     "text": [
      "enter the first number:3\n",
      "enter the second number:0\n",
      "The greatest number is 3\n"
     ]
    }
   ],
   "source": [
    "#greatest number\n",
    "\n",
    "a=int(input(\"enter the first number:\"))\n",
    "b=int(input(\"enter the second number:\"))\n",
    "if a<b:\n",
    "    print(\"The greatest number is\",b)\n",
    "else:\n",
    "    print(\"The greatest number is\",a)"
   ]
  },
  {
   "cell_type": "code",
   "execution_count": null,
   "id": "0ab5db92",
   "metadata": {},
   "outputs": [],
   "source": []
  }
 ],
 "metadata": {
  "kernelspec": {
   "display_name": "Python 3 (ipykernel)",
   "language": "python",
   "name": "python3"
  },
  "language_info": {
   "codemirror_mode": {
    "name": "ipython",
    "version": 3
   },
   "file_extension": ".py",
   "mimetype": "text/x-python",
   "name": "python",
   "nbconvert_exporter": "python",
   "pygments_lexer": "ipython3",
   "version": "3.10.12"
  }
 },
 "nbformat": 4,
 "nbformat_minor": 5
}
