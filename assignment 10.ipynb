{
 "cells": [
  {
   "cell_type": "code",
   "execution_count": 2,
   "id": "3785cea3",
   "metadata": {},
   "outputs": [
    {
     "name": "stdout",
     "output_type": "stream",
     "text": [
      "Enter numbers with comma separated:1,2,3,5,4,6\n",
      "positive integers from the given list are: [1, 2, 3, 5, 4, 6]\n",
      "square of numbers in the list is: [1, 4, 9, 25, 16, 36]\n",
      "enter the word:hudha\n",
      "vowels in hudha are ['u', 'a']\n",
      "ordinal values of ['h', 'u', 'd', 'h', 'a'] are: [104, 117, 100, 104, 97]\n"
     ]
    }
   ],
   "source": [
    "#using list comprehension:\n",
    "#list of positive numbers\n",
    "n=input(\"Enter numbers with comma separated:\").split(\",\")\n",
    "a=map(int,n)\n",
    "new1=[x for x in a if x>0]\n",
    "print(\"positive integers from the given list are:\",new1)\n",
    "d=map(int,n)\n",
    "\n",
    "#square of n numbers\n",
    "new2=[x**2 for x in d]\n",
    "print(\"square of numbers in the list is:\",new2)\n",
    "\n",
    "#list of vowels\n",
    "vw=input(\"enter the word:\")\n",
    "vw1=[x for x in vw]\n",
    "vowel=['a','e','i','o','u','A','E','I','O','U']\n",
    "vw2=[x for x in vw1 if x in vowel]\n",
    "print(\"vowels in\",vw,\"are\",vw2)\n",
    "#ordinal values\n",
    "ordinal=[ord(x) for x in vw1]\n",
    "print(\"ordinal values of\",vw1,\"are:\",ordinal)\n"
   ]
  },
  {
   "cell_type": "code",
   "execution_count": 3,
   "id": "c8930aad",
   "metadata": {},
   "outputs": [
    {
     "name": "stdout",
     "output_type": "stream",
     "text": [
      "enter number with comma seperated:1,4,8,7,2,5,6\n",
      "list 1 [1, 4, 8, 7, 2, 5, 6]\n",
      "list after removing even number= [1, 8, 7, 5]\n"
     ]
    }
   ],
   "source": [
    "#remove the even numbers from list\n",
    "n=input(\"enter number with comma seperated:\").split(\",\")\n",
    "b=map(int,n)\n",
    "list1=[x for x in b]\n",
    "print(\"list 1\",list1)\n",
    "for even in list1:\n",
    "    if(even%2==0):\n",
    "        list1.remove(even)\n",
    "print(\"list after removing even number=\",list1)"
   ]
  },
  {
   "cell_type": "code",
   "execution_count": 4,
   "id": "f16ef20f",
   "metadata": {},
   "outputs": [
    {
     "name": "stdout",
     "output_type": "stream",
     "text": [
      "Enter colors for first list with comma separated: blue,red,orange\n",
      "Enter colors for second list with comma separated: white,black\n",
      "Difference of  {'orange', 'blue', 'red'}  and  {'white', 'black'} : \n",
      "{'orange', 'blue', 'red'}\n"
     ]
    }
   ],
   "source": [
    "#print out all colors from color-list not contained in coclor-list2\n",
    "c1=set(input('Enter colors for first list with comma separated: ').split(','))\n",
    "c2=set(input('Enter colors for second list with comma separated: ').split(','))\n",
    "print('Difference of ',c1,' and ',c2,': ')\n",
    "print(c1.difference(c2))"
   ]
  },
  {
   "cell_type": "code",
   "execution_count": 3,
   "id": "e37f3052",
   "metadata": {},
   "outputs": [
    {
     "name": "stdout",
     "output_type": "stream",
     "text": [
      "Enter first list with comma separated: 10,20,50,40,70\n",
      "Enter second list with comma separated: 30,40,80,90\n",
      "Two lists have unequal length\n",
      "sum of two list are  not equal\n",
      "40  occurs in both list\n"
     ]
    }
   ],
   "source": [
    "#check two list\n",
    "\n",
    "\n",
    "lst1=set(input('Enter first list with comma separated: ').split(','))\n",
    "lst2=set(input('Enter second list with comma separated: ').split(','))\n",
    "sum1 = str(0)\n",
    "sum2 = str(0)\n",
    "if len(lst1) == len(lst2):\n",
    "    print(\"both list are of equal length\")\n",
    "else:\n",
    "    print(\"Two lists have unequal length\")\n",
    "for x in lst1:\n",
    "    sum1 = sum1 + x\n",
    "for x in lst2:\n",
    "    sum2 = sum2 + x\n",
    "if sum1 == sum2:\n",
    "    a = \"equal\"  \n",
    "else:\n",
    "    a = \"not equal\"  \n",
    "print(\"sum of two list are \", a)  \n",
    "for x in lst1:\n",
    "    for y in lst2:\n",
    "        if x == y:\n",
    "            print(y,\" occurs in both list\")"
   ]
  },
  {
   "cell_type": "code",
   "execution_count": 1,
   "id": "244175ad",
   "metadata": {},
   "outputs": [
    {
     "name": "stdout",
     "output_type": "stream",
     "text": [
      "Enter list comma separated: h,u,d,h,a\n",
      "{'a', 'u', 'd', 'h'}\n",
      "occurence of a in {'a', 'u', 'd', 'h'}  is: 1\n"
     ]
    }
   ],
   "source": [
    "#Store a list of first names.Count the occurrences of ‘a’ within the list.\n",
    "\n",
    "\n",
    "names=set(input('Enter list comma separated: ').split(','))\n",
    "print(names)\n",
    "count=0\n",
    "for name in names:\n",
    "    count+=name.count('a')\n",
    "print(\"occurence of a in\",names,\" is:\",count)"
   ]
  },
  {
   "cell_type": "code",
   "execution_count": 2,
   "id": "9800803b",
   "metadata": {},
   "outputs": [
    {
     "name": "stdout",
     "output_type": "stream",
     "text": [
      "enter an integer('enter stop to stop'):1\n",
      "enter an integer('enter stop to stop'):50\n",
      "enter an integer('enter stop to stop'):50\n",
      "enter an integer('enter stop to stop'):stop\n",
      "[1, 50, 50]\n"
     ]
    }
   ],
   "source": [
    "#list of integers value greater than 100 store 'over\n",
    "\n",
    "\n",
    "values=[]\n",
    "while True:\n",
    "    value=input(\"enter an integer('enter stop to stop'):\")\n",
    "    if value == 'stop' :\n",
    "        break\n",
    "    elif int(value)>100:\n",
    "        values.append('over')\n",
    "    else:\n",
    "        values.append(int(value))\n",
    "print(values)"
   ]
  },
  {
   "cell_type": "code",
   "execution_count": null,
   "id": "771e5c3d",
   "metadata": {},
   "outputs": [],
   "source": []
  }
 ],
 "metadata": {
  "kernelspec": {
   "display_name": "Python 3 (ipykernel)",
   "language": "python",
   "name": "python3"
  },
  "language_info": {
   "codemirror_mode": {
    "name": "ipython",
    "version": 3
   },
   "file_extension": ".py",
   "mimetype": "text/x-python",
   "name": "python",
   "nbconvert_exporter": "python",
   "pygments_lexer": "ipython3",
   "version": "3.11.5"
  }
 },
 "nbformat": 4,
 "nbformat_minor": 5
}
