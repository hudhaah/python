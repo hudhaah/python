{
 "cells": [
  {
   "cell_type": "code",
   "execution_count": 2,
   "id": "888f1953",
   "metadata": {},
   "outputs": [
    {
     "name": "stdout",
     "output_type": "stream",
     "text": [
      "Enter the string:apple\n",
      "The resulting string is= eppla\n"
     ]
    }
   ],
   "source": [
    "#first and last character changing\n",
    "\n",
    "s=str(input(\"Enter the string:\"))\n",
    "a=s[0]\n",
    "b=s[-1]\n",
    "x=(b+s[1:4]+a)\n",
    "print(\"The resulting string is=\",x)"
   ]
  },
  {
   "cell_type": "code",
   "execution_count": 4,
   "id": "225a0413",
   "metadata": {},
   "outputs": [
    {
     "name": "stdout",
     "output_type": "stream",
     "text": [
      "Enter the string:strawberry\n",
      "The resulting string is= stry\n"
     ]
    }
   ],
   "source": [
    "#string with first 2 and last 2 characters\n",
    "\n",
    "s=str(input(\"Enter the string:\"))\n",
    "a=s[0:2]\n",
    "b=s[-2:]\n",
    "x=(a+b)\n",
    "print(\"The resulting string is=\",x)"
   ]
  },
  {
   "cell_type": "code",
   "execution_count": 5,
   "id": "7e0301d3",
   "metadata": {},
   "outputs": [
    {
     "name": "stdout",
     "output_type": "stream",
     "text": [
      "Enter the first string:hello\n",
      "Enter the second string:world\n",
      "The resulting string is= wolloherld\n"
     ]
    }
   ],
   "source": [
    "#single string from 2 given string and swap first 2 characters of each string\n",
    "\n",
    "s1=str(input(\"Enter the first string:\"))\n",
    "s2=str(input(\"Enter the second string:\"))\n",
    "a=s1[0:2]\n",
    "b=s2[0:2]\n",
    "x=(b+s1[2:])\n",
    "y=(a+s2[2:])\n",
    "print(\"The resulting string is=\",x+y)\n"
   ]
  },
  {
   "cell_type": "code",
   "execution_count": 10,
   "id": "51417cea",
   "metadata": {},
   "outputs": [
    {
     "name": "stdout",
     "output_type": "stream",
     "text": [
      "Enter the string:onion\n",
      "The resulting string is= oni$n\n"
     ]
    }
   ],
   "source": [
    "#characters to $ except first character\n",
    "\n",
    "s=str(input(\"Enter the string:\"))\n",
    "a=s[0]\n",
    "b=s[1:]\n",
    "st=b.replace(\"o\",\"$\")\n",
    "x=s[0]+st\n",
    "print(\"The resulting string is=\",x)"
   ]
  },
  {
   "cell_type": "code",
   "execution_count": null,
   "id": "948642f0",
   "metadata": {},
   "outputs": [],
   "source": []
  },
  {
   "cell_type": "code",
   "execution_count": null,
   "id": "5963944b",
   "metadata": {},
   "outputs": [],
   "source": []
  }
 ],
 "metadata": {
  "kernelspec": {
   "display_name": "Python 3 (ipykernel)",
   "language": "python",
   "name": "python3"
  },
  "language_info": {
   "codemirror_mode": {
    "name": "ipython",
    "version": 3
   },
   "file_extension": ".py",
   "mimetype": "text/x-python",
   "name": "python",
   "nbconvert_exporter": "python",
   "pygments_lexer": "ipython3",
   "version": "3.10.12"
  }
 },
 "nbformat": 4,
 "nbformat_minor": 5
}
